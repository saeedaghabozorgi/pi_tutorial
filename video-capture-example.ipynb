{
 "cells": [
  {
   "cell_type": "code",
   "execution_count": 1,
   "metadata": {
    "collapsed": true
   },
   "outputs": [],
   "source": [
    "import numpy as np\n",
    "import cv2"
   ]
  },
  {
   "cell_type": "code",
   "execution_count": 2,
   "metadata": {
    "collapsed": false
   },
   "outputs": [],
   "source": [
    "# Capture one frame\n",
    "cap = cv2.VideoCapture(0)\n",
    "ret, frame = cap.read()\n",
    "cv2.imwrite(\"frame.jpg\", frame)\n",
    "cap.release()"
   ]
  },
  {
   "cell_type": "code",
   "execution_count": 3,
   "metadata": {
    "collapsed": false
   },
   "outputs": [],
   "source": [
    "import watson_developer_cloud\n",
    "from watson_developer_cloud import VisualRecognitionV3\n",
    "\n",
    "api_key = \"insert_yours_here\"\n",
    "visual_recognition = VisualRecognitionV3('2016-05-20',\n",
    "                                         api_key=api_key)\n",
    "with open('frame.jpg', 'rb') as f:\n",
    "    results = visual_recognition.classify(images_file=f)"
   ]
  },
  {
   "cell_type": "code",
   "execution_count": 4,
   "metadata": {
    "collapsed": false
   },
   "outputs": [
    {
     "data": {
      "text/plain": [
       "{'custom_classes': 0,\n",
       " 'images': [{'classifiers': [{'classes': [{'class': 'pipe organ',\n",
       "       'score': 0.766,\n",
       "       'type_hierarchy': '/musical instrument/pipe organ'},\n",
       "      {'class': 'musical instrument', 'score': 0.884},\n",
       "      {'class': 'piano',\n",
       "       'score': 0.681,\n",
       "       'type_hierarchy': '/musical instrument/stringed instrument/piano'},\n",
       "      {'class': 'stringed instrument', 'score': 0.681},\n",
       "      {'class': 'piano keyboard',\n",
       "       'score': 0.591,\n",
       "       'type_hierarchy': '/keyboard/piano keyboard'},\n",
       "      {'class': 'keyboard', 'score': 0.596},\n",
       "      {'class': 'organist (musician)',\n",
       "       'score': 0.5,\n",
       "       'type_hierarchy': '/person/entertainer/musician/organist (musician)'},\n",
       "      {'class': 'musician', 'score': 0.5},\n",
       "      {'class': 'entertainer', 'score': 0.5},\n",
       "      {'class': 'person', 'score': 0.501},\n",
       "      {'class': 'coal black color', 'score': 1.0}],\n",
       "     'classifier_id': 'default',\n",
       "     'name': 'default'}],\n",
       "   'image': 'frame.jpg'}],\n",
       " 'images_processed': 1}"
      ]
     },
     "execution_count": 4,
     "metadata": {},
     "output_type": "execute_result"
    }
   ],
   "source": [
    "results"
   ]
  }
 ],
 "metadata": {
  "kernelspec": {
   "display_name": "OpenCV3",
   "language": "python",
   "name": "cv"
  },
  "language_info": {
   "codemirror_mode": {
    "name": "ipython",
    "version": 3
   },
   "file_extension": ".py",
   "mimetype": "text/x-python",
   "name": "python",
   "nbconvert_exporter": "python",
   "pygments_lexer": "ipython3",
   "version": "3.4.5"
  }
 },
 "nbformat": 4,
 "nbformat_minor": 2
}
